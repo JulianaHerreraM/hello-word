{
  "nbformat": 4,
  "nbformat_minor": 0,
  "metadata": {
    "colab": {
      "provenance": [],
      "collapsed_sections": [],
      "include_colab_link": true
    },
    "kernelspec": {
      "name": "python3",
      "display_name": "Python 3"
    },
    "language_info": {
      "name": "python"
    }
  },
  "cells": [
    {
      "cell_type": "markdown",
      "metadata": {
        "id": "view-in-github",
        "colab_type": "text"
      },
      "source": [
        "<a href=\"https://colab.research.google.com/github/JulianaHerreraM/hello-word/blob/master/HH_Model.ipynb\" target=\"_parent\"><img src=\"https://colab.research.google.com/assets/colab-badge.svg\" alt=\"Open In Colab\"/></a>"
      ]
    },
    {
      "cell_type": "code",
      "execution_count": null,
      "metadata": {
        "id": "BMLlTSfYcefD"
      },
      "outputs": [],
      "source": [
        "import numpy as np\n",
        "import math\n",
        "import matplotlib.pyplot as plt\n",
        "\n",
        "dt = 1e-6\n",
        "tmax = 20e-3\n",
        "vr = -64e-3   #resting potential\n",
        "cmemb = 1e-6  #membrane capacitance\n",
        "vNa = 50e-3   #Sodium Nernst potential\n",
        "vK = -77e-3   #Potassium Nernst potential"
      ]
    },
    {
      "cell_type": "code",
      "source": [
        "#cálculo de alpha y betas\n",
        "def calcab(voltage, vr):\n",
        "    an = (10*(-1000*(voltage-vr)+10))/(math.exp((-1000*(voltage-vr)+10)/10)-1)\n",
        "    am = (100*(-1000*(voltage-vr)+25))/(math.exp((-1000*(voltage-vr)+25)/10)-1)\n",
        "    ah = 70*math.exp(-1000*(voltage-vr)/20)\n",
        "    bn = 125*math.exp(-1000*(voltage-vr)/80)\n",
        "    bm = 4000*math.exp(-1000*(voltage-vr)/18)\n",
        "    bh = 1000/(math.exp((-1000*(voltage-vr)+30)/10)+1)\n",
        "\n",
        "    return an, am, ah, bn, bm, bh"
      ],
      "metadata": {
        "id": "RIo7S0Zgem2d"
      },
      "execution_count": null,
      "outputs": []
    },
    {
      "cell_type": "code",
      "source": [
        "#cálculo de valores iniciales\n",
        "def init_values(voltage, vr):\n",
        "    an, am, ah, bn, bm, bh = calcab(voltage, vr)\n",
        "    n = an/(an+bn)\n",
        "    m = am/(am+bm)\n",
        "    hh = ah/(ah+bh)\n",
        "    return n, m, hh"
      ],
      "metadata": {
        "id": "L7zQvw4ZOBO7"
      },
      "execution_count": null,
      "outputs": []
    },
    {
      "cell_type": "code",
      "source": [
        "#cálculo de conductancias y corrientes\n",
        "def calc_currents(n, m, hh, voltage, vr, vK, vNa):\n",
        "    gK = 36e-3*math.pow(n, 4)\n",
        "    gNa = 120e-3*math.pow(m, 3)*hh\n",
        "    jK = gK*(voltage-vK)\n",
        "    jNa = gNa*(voltage-vNa)\n",
        "    jL =3e-4*(voltage-vr-10.6e-3)\n",
        "    jmemb = jK+jNa+jL\n",
        "    return gK, gNa, jK, jNa, jL, jmemb"
      ],
      "metadata": {
        "id": "b-NBiO4qOsMF"
      },
      "execution_count": null,
      "outputs": []
    },
    {
      "cell_type": "code",
      "source": [
        "#Main\n",
        "t=0\n",
        "voltage=vr\n",
        "n, m, hh = init_values(voltage, vr)\n",
        "voltage_final = []\n",
        "t_final = []\n",
        "\n",
        "# results = t, voltage, gK, gNa, jK, jNa, jL, jmemb, n, m, hh\n",
        "results = [[], [], [], [], [], [], [], [], [], [], []]\n",
        "\n",
        "while(t<tmax):\n",
        "  gK, gNa, jK, jNa, jL, jmemb = calc_currents(n, m, hh, voltage, vr, vK, vNa)\n",
        "  \n",
        "  if((t>=5e-4) & (t<6e-4)):\n",
        "    jstim = 1e-4\n",
        "  else:\n",
        "    jstim = 0\n",
        "\n",
        "  dvdt = (-jmemb+jstim)/cmemb\n",
        "  voltage = voltage+dvdt*dt\n",
        "  an, am, ah, bn, bm, bh = calcab(voltage, vr)\n",
        "  dndt = an*(1-n)-bn*n\n",
        "  dmdt = am*(1-m)-bm*m\n",
        "  dhdt = ah*(1-hh)-bh*hh\n",
        "\n",
        "  n = n+dndt*dt\n",
        "  m = m+dmdt*dt\n",
        "  hh = hh+dhdt*dt\n",
        "\n",
        "  results[0].append(t*1000)\n",
        "  results[1].append(voltage*1000)\n",
        "  results[2].append(gK)\n",
        "  results[3].append(gNa)\n",
        "  results[4].append(jK)\n",
        "  results[5].append(jNa)\n",
        "  results[6].append(jL)\n",
        "  results[7].append(jmemb)\n",
        "  results[8].append(n)\n",
        "  results[9].append(m)\n",
        "  results[10].append(hh)\n",
        "\n",
        "  t=t+dt\n",
        "\n",
        "results_header = ['t', 'voltage', 'gK', 'gNa', 'jK', 'jNa', 'jL', 'jmemb', 'n', 'm', 'hh']"
      ],
      "metadata": {
        "id": "eKSPm15OPtyK"
      },
      "execution_count": null,
      "outputs": []
    },
    {
      "cell_type": "code",
      "source": [
        "# Figures:\n",
        "plt.figure(figsize=(10, 8))\n",
        "plt.plot(results[0], results[1])\n",
        "plt.axhline(y = -64, color = 'r', linestyle = '--')\n",
        "plt.xlabel(\"Time (ms)\")\n",
        "plt.ylabel(\"Voltage (mV)\")\n",
        "\n",
        "plt.show()"
      ],
      "metadata": {
        "id": "CMngcuyIMBKZ",
        "colab": {
          "base_uri": "https://localhost:8080/",
          "height": 497
        },
        "outputId": "b751b99c-2568-4e40-b3f0-f794142c6354"
      },
      "execution_count": null,
      "outputs": [
        {
          "output_type": "display_data",
          "data": {
            "text/plain": [
              "<Figure size 720x576 with 1 Axes>"
            ],
            "image/png": "[encoded data removed]"
          },
          "metadata": {
            "needs_background": "light"
          }
        }
      ]
    },
    {
      "cell_type": "code",
      "source": [
        "results = np.array(results).T\n",
        "np.savetxt('resultados.csv', results, fmt='%1.4f', delimiter='\\t')"
      ],
      "metadata": {
        "id": "eaQw2jKigOvI"
      },
      "execution_count": null,
      "outputs": []
    },
    {
      "cell_type": "markdown",
      "source": [
        "**Como cargar datos**"
      ],
      "metadata": {
        "id": "1myfSgY1NCOe"
      }
    },
    {
      "cell_type": "code",
      "source": [
        "load_results = np.loadtxt('resultados.csv', delimiter='\\t')\n",
        "load_results.shape"
      ],
      "metadata": {
        "colab": {
          "base_uri": "https://localhost:8080/"
        },
        "id": "cVeIwA_0NMLt",
        "outputId": "c09ffe07-56eb-4f72-927a-ffb2d22968bf"
      },
      "execution_count": null,
      "outputs": [
        {
          "output_type": "execute_result",
          "data": {
            "text/plain": [
              "(20001, 11)"
            ]
          },
          "metadata": {},
          "execution_count": 91
        }
      ]
    },
    {
      "cell_type": "code",
      "source": [
        "import pandas as pd\n",
        "df = pd.DataFrame(results, columns=['t', 'voltage', 'gK', 'gNa', 'jK', 'jNa', 'jL', 'jmemb', 'n', 'm', 'hh'])\n",
        "df"
      ],
      "metadata": {
        "colab": {
          "base_uri": "https://localhost:8080/"
        },
        "id": "OyxTtZ_OS8Cr",
        "outputId": "068a5cad-87ea-492e-8705-d7d690b479c8"
      },
      "execution_count": null,
      "outputs": [
        {
          "output_type": "execute_result",
          "data": {
            "text/plain": [
              "            t    voltage        gK       gNa        jK       jNa        jL  \\\n",
              "0       0.000 -64.000377  0.000367  0.000011  0.000005 -0.000001 -0.000003   \n",
              "1       0.001 -64.000754  0.000367  0.000011  0.000005 -0.000001 -0.000003   \n",
              "2       0.002 -64.001130  0.000367  0.000011  0.000005 -0.000001 -0.000003   \n",
              "3       0.003 -64.001506  0.000367  0.000011  0.000005 -0.000001 -0.000003   \n",
              "4       0.004 -64.001882  0.000367  0.000011  0.000005 -0.000001 -0.000003   \n",
              "...       ...        ...       ...       ...       ...       ...       ...   \n",
              "19996  19.996 -63.953666  0.000325  0.000011  0.000004 -0.000001 -0.000003   \n",
              "19997  19.997 -63.953496  0.000325  0.000011  0.000004 -0.000001 -0.000003   \n",
              "19998  19.998 -63.953327  0.000325  0.000011  0.000004 -0.000001 -0.000003   \n",
              "19999  19.999 -63.953157  0.000325  0.000011  0.000004 -0.000001 -0.000003   \n",
              "20000  20.000 -63.952988  0.000325  0.000011  0.000004 -0.000001 -0.000003   \n",
              "\n",
              "              jmemb         n         m        hh  \n",
              "0      3.769299e-07  0.317677  0.052932  0.596121  \n",
              "1      3.766753e-07  0.317677  0.052932  0.596121  \n",
              "2      3.764214e-07  0.317677  0.052932  0.596121  \n",
              "3      3.761683e-07  0.317677  0.052932  0.596121  \n",
              "4      3.759160e-07  0.317677  0.052932  0.596121  \n",
              "...             ...       ...       ...       ...  \n",
              "19996 -1.696366e-07  0.308336  0.052928  0.615771  \n",
              "19997 -1.695102e-07  0.308338  0.052929  0.615768  \n",
              "19998 -1.693838e-07  0.308340  0.052931  0.615766  \n",
              "19999 -1.692575e-07  0.308341  0.052932  0.615763  \n",
              "20000 -1.691311e-07  0.308343  0.052933  0.615761  \n",
              "\n",
              "[20001 rows x 11 columns]"
            ],
            "text/html": [
              "\n",
              "  <div id=\"df-fe2f452e-c3e1-40c8-bd08-7a1164ad819a\">\n",
              "    <div class=\"colab-df-container\">\n",
              "      <div>\n",
              "<style scoped>\n",
              "    .dataframe tbody tr th:only-of-type {\n",
              "        vertical-align: middle;\n",
              "    }\n",
              "\n",
              "    .dataframe tbody tr th {\n",
              "        vertical-align: top;\n",
              "    }\n",
              "\n",
              "    .dataframe thead th {\n",
              "        text-align: right;\n",
              "    }\n",
              "</style>\n",
              "<table border=\"1\" class=\"dataframe\">\n",
              "  <thead>\n",
              "    <tr style=\"text-align: right;\">\n",
              "      <th></th>\n",
              "      <th>t</th>\n",
              "      <th>voltage</th>\n",
              "      <th>gK</th>\n",
              "      <th>gNa</th>\n",
              "      <th>jK</th>\n",
              "      <th>jNa</th>\n",
              "      <th>jL</th>\n",
              "      <th>jmemb</th>\n",
              "      <th>n</th>\n",
              "      <th>m</th>\n",
              "      <th>hh</th>\n",
              "    </tr>\n",
              "  </thead>\n",
              "  <tbody>\n",
              "    <tr>\n",
              "      <th>0</th>\n",
              "      <td>0.000</td>\n",
              "      <td>-64.000377</td>\n",
              "      <td>0.000367</td>\n",
              "      <td>0.000011</td>\n",
              "      <td>0.000005</td>\n",
              "      <td>-0.000001</td>\n",
              "      <td>-0.000003</td>\n",
              "      <td>3.769299e-07</td>\n",
              "      <td>0.317677</td>\n",
              "      <td>0.052932</td>\n",
              "      <td>0.596121</td>\n",
              "    </tr>\n",
              "    <tr>\n",
              "      <th>1</th>\n",
              "      <td>0.001</td>\n",
              "      <td>-64.000754</td>\n",
              "      <td>0.000367</td>\n",
              "      <td>0.000011</td>\n",
              "      <td>0.000005</td>\n",
              "      <td>-0.000001</td>\n",
              "      <td>-0.000003</td>\n",
              "      <td>3.766753e-07</td>\n",
              "      <td>0.317677</td>\n",
              "      <td>0.052932</td>\n",
              "      <td>0.596121</td>\n",
              "    </tr>\n",
              "    <tr>\n",
              "      <th>2</th>\n",
              "      <td>0.002</td>\n",
              "      <td>-64.001130</td>\n",
              "      <td>0.000367</td>\n",
              "      <td>0.000011</td>\n",
              "      <td>0.000005</td>\n",
              "      <td>-0.000001</td>\n",
              "      <td>-0.000003</td>\n",
              "      <td>3.764214e-07</td>\n",
              "      <td>0.317677</td>\n",
              "      <td>0.052932</td>\n",
              "      <td>0.596121</td>\n",
              "    </tr>\n",
              "    <tr>\n",
              "      <th>3</th>\n",
              "      <td>0.003</td>\n",
              "      <td>-64.001506</td>\n",
              "      <td>0.000367</td>\n",
              "      <td>0.000011</td>\n",
              "      <td>0.000005</td>\n",
              "      <td>-0.000001</td>\n",
              "      <td>-0.000003</td>\n",
              "      <td>3.761683e-07</td>\n",
              "      <td>0.317677</td>\n",
              "      <td>0.052932</td>\n",
              "      <td>0.596121</td>\n",
              "    </tr>\n",
              "    <tr>\n",
              "      <th>4</th>\n",
              "      <td>0.004</td>\n",
              "      <td>-64.001882</td>\n",
              "      <td>0.000367</td>\n",
              "      <td>0.000011</td>\n",
              "      <td>0.000005</td>\n",
              "      <td>-0.000001</td>\n",
              "      <td>-0.000003</td>\n",
              "      <td>3.759160e-07</td>\n",
              "      <td>0.317677</td>\n",
              "      <td>0.052932</td>\n",
              "      <td>0.596121</td>\n",
              "    </tr>\n",
              "    <tr>\n",
              "      <th>...</th>\n",
              "      <td>...</td>\n",
              "      <td>...</td>\n",
              "      <td>...</td>\n",
              "      <td>...</td>\n",
              "      <td>...</td>\n",
              "      <td>...</td>\n",
              "      <td>...</td>\n",
              "      <td>...</td>\n",
              "      <td>...</td>\n",
              "      <td>...</td>\n",
              "      <td>...</td>\n",
              "    </tr>\n",
              "    <tr>\n",
              "      <th>19996</th>\n",
              "      <td>19.996</td>\n",
              "      <td>-63.953666</td>\n",
              "      <td>0.000325</td>\n",
              "      <td>0.000011</td>\n",
              "      <td>0.000004</td>\n",
              "      <td>-0.000001</td>\n",
              "      <td>-0.000003</td>\n",
              "      <td>-1.696366e-07</td>\n",
              "      <td>0.308336</td>\n",
              "      <td>0.052928</td>\n",
              "      <td>0.615771</td>\n",
              "    </tr>\n",
              "    <tr>\n",
              "      <th>19997</th>\n",
              "      <td>19.997</td>\n",
              "      <td>-63.953496</td>\n",
              "      <td>0.000325</td>\n",
              "      <td>0.000011</td>\n",
              "      <td>0.000004</td>\n",
              "      <td>-0.000001</td>\n",
              "      <td>-0.000003</td>\n",
              "      <td>-1.695102e-07</td>\n",
              "      <td>0.308338</td>\n",
              "      <td>0.052929</td>\n",
              "      <td>0.615768</td>\n",
              "    </tr>\n",
              "    <tr>\n",
              "      <th>19998</th>\n",
              "      <td>19.998</td>\n",
              "      <td>-63.953327</td>\n",
              "      <td>0.000325</td>\n",
              "      <td>0.000011</td>\n",
              "      <td>0.000004</td>\n",
              "      <td>-0.000001</td>\n",
              "      <td>-0.000003</td>\n",
              "      <td>-1.693838e-07</td>\n",
              "      <td>0.308340</td>\n",
              "      <td>0.052931</td>\n",
              "      <td>0.615766</td>\n",
              "    </tr>\n",
              "    <tr>\n",
              "      <th>19999</th>\n",
              "      <td>19.999</td>\n",
              "      <td>-63.953157</td>\n",
              "      <td>0.000325</td>\n",
              "      <td>0.000011</td>\n",
              "      <td>0.000004</td>\n",
              "      <td>-0.000001</td>\n",
              "      <td>-0.000003</td>\n",
              "      <td>-1.692575e-07</td>\n",
              "      <td>0.308341</td>\n",
              "      <td>0.052932</td>\n",
              "      <td>0.615763</td>\n",
              "    </tr>\n",
              "    <tr>\n",
              "      <th>20000</th>\n",
              "      <td>20.000</td>\n",
              "      <td>-63.952988</td>\n",
              "      <td>0.000325</td>\n",
              "      <td>0.000011</td>\n",
              "      <td>0.000004</td>\n",
              "      <td>-0.000001</td>\n",
              "      <td>-0.000003</td>\n",
              "      <td>-1.691311e-07</td>\n",
              "      <td>0.308343</td>\n",
              "      <td>0.052933</td>\n",
              "      <td>0.615761</td>\n",
              "    </tr>\n",
              "  </tbody>\n",
              "</table>\n",
              "<p>20001 rows × 11 columns</p>\n",
              "</div>\n",
              "      <button class=\"colab-df-convert\" onclick=\"convertToInteractive('df-fe2f452e-c3e1-40c8-bd08-7a1164ad819a')\"\n",
              "              title=\"Convert this dataframe to an interactive table.\"\n",
              "              style=\"display:none;\">\n",
              "        \n",
              "  <svg xmlns=\"http://www.w3.org/2000/svg\" height=\"24px\"viewBox=\"0 0 24 24\"\n",
              "       width=\"24px\">\n",
              "    <path d=\"M0 0h24v24H0V0z\" fill=\"none\"/>\n",
              "    <path d=\"M18.56 5.44l.94 2.06.94-2.06 2.06-.94-2.06-.94-.94-2.06-.94 2.06-2.06.94zm-11 1L8.5 8.5l.94-2.06 2.06-.94-2.06-.94L8.5 2.5l-.94 2.06-2.06.94zm10 10l.94 2.06.94-2.06 2.06-.94-2.06-.94-.94-2.06-.94 2.06-2.06.94z\"/><path d=\"M17.41 7.96l-1.37-1.37c-.4-.4-.92-.59-1.43-.59-.52 0-1.04.2-1.43.59L10.3 9.45l-7.72 7.72c-.78.78-.78 2.05 0 2.83L4 21.41c.39.39.9.59 1.41.59.51 0 1.02-.2 1.41-.59l7.78-7.78 2.81-2.81c.8-.78.8-2.07 0-2.86zM5.41 20L4 18.59l7.72-7.72 1.47 1.35L5.41 20z\"/>\n",
              "  </svg>\n",
              "      </button>\n",
              "      \n",
              "  <style>\n",
              "    .colab-df-container {\n",
              "      display:flex;\n",
              "      flex-wrap:wrap;\n",
              "      gap: 12px;\n",
              "    }\n",
              "\n",
              "    .colab-df-convert {\n",
              "      background-color: #E8F0FE;\n",
              "      border: none;\n",
              "      border-radius: 50%;\n",
              "      cursor: pointer;\n",
              "      display: none;\n",
              "      fill: #1967D2;\n",
              "      height: 32px;\n",
              "      padding: 0 0 0 0;\n",
              "      width: 32px;\n",
              "    }\n",
              "\n",
              "    .colab-df-convert:hover {\n",
              "      background-color: #E2EBFA;\n",
              "      box-shadow: 0px 1px 2px rgba(60, 64, 67, 0.3), 0px 1px 3px 1px rgba(60, 64, 67, 0.15);\n",
              "      fill: #174EA6;\n",
              "    }\n",
              "\n",
              "    [theme=dark] .colab-df-convert {\n",
              "      background-color: #3B4455;\n",
              "      fill: #D2E3FC;\n",
              "    }\n",
              "\n",
              "    [theme=dark] .colab-df-convert:hover {\n",
              "      background-color: #434B5C;\n",
              "      box-shadow: 0px 1px 3px 1px rgba(0, 0, 0, 0.15);\n",
              "      filter: drop-shadow(0px 1px 2px rgba(0, 0, 0, 0.3));\n",
              "      fill: #FFFFFF;\n",
              "    }\n",
              "  </style>\n",
              "\n",
              "      <script>\n",
              "        const buttonEl =\n",
              "          document.querySelector('#df-fe2f452e-c3e1-40c8-bd08-7a1164ad819a button.colab-df-convert');\n",
              "        buttonEl.style.display =\n",
              "          google.colab.kernel.accessAllowed ? 'block' : 'none';\n",
              "\n",
              "        async function convertToInteractive(key) {\n",
              "          const element = document.querySelector('#df-fe2f452e-c3e1-40c8-bd08-7a1164ad819a');\n",
              "          const dataTable =\n",
              "            await google.colab.kernel.invokeFunction('convertToInteractive',\n",
              "                                                     [key], {});\n",
              "          if (!dataTable) return;\n",
              "\n",
              "          const docLinkHtml = 'Like what you see? Visit the ' +\n",
              "            '<a target=\"_blank\" href=https://colab.research.google.com/notebooks/data_table.ipynb>data table notebook</a>'\n",
              "            + ' to learn more about interactive tables.';\n",
              "          element.innerHTML = '';\n",
              "          dataTable['output_type'] = 'display_data';\n",
              "          await google.colab.output.renderOutput(dataTable, element);\n",
              "          const docLink = document.createElement('div');\n",
              "          docLink.innerHTML = docLinkHtml;\n",
              "          element.appendChild(docLink);\n",
              "        }\n",
              "      </script>\n",
              "    </div>\n",
              "  </div>\n",
              "  "
            ]
          },
          "metadata": {},
          "execution_count": 92
        }
      ]
    }
  ]
}